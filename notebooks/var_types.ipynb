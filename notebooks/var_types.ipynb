{
 "cells": [
  {
   "cell_type": "code",
   "execution_count": 1,
   "metadata": {},
   "outputs": [],
   "source": [
    "import sys\n",
    "import os"
   ]
  },
  {
   "cell_type": "code",
   "execution_count": 2,
   "metadata": {},
   "outputs": [],
   "source": [
    "sys.path.append(os.path.abspath('../execute'))"
   ]
  },
  {
   "cell_type": "code",
   "execution_count": 3,
   "metadata": {},
   "outputs": [],
   "source": [
    "import json\n",
    "import parcels\n",
    "from datetime import timedelta\n",
    "import kernels\n",
    "import logging\n",
    "import time\n",
    "from importlib import reload  # Python 3.4+\n",
    "from fieldset_vars import FieldsetVariable\n"
   ]
  },
  {
   "cell_type": "code",
   "execution_count": 20,
   "metadata": {},
   "outputs": [],
   "source": [
    "import execute_PARCELS as exP"
   ]
  },
  {
   "cell_type": "code",
   "execution_count": 25,
   "metadata": {},
   "outputs": [
    {
     "data": {
      "text/plain": [
       "<module 'kernels' from '/home/colin_beyers/lagrangian_drifts/execute/kernels.py'>"
      ]
     },
     "execution_count": 25,
     "metadata": {},
     "output_type": "execute_result"
    }
   ],
   "source": [
    "reload(exP)\n",
    "reload(kernels)"
   ]
  },
  {
   "cell_type": "code",
   "execution_count": 6,
   "metadata": {},
   "outputs": [
    {
     "name": "stderr",
     "output_type": "stream",
     "text": [
      "2024-10-01 16:22:16,350 - INFO - Loading configuration from ../execute/config.json\n"
     ]
    }
   ],
   "source": [
    "config = exP.load_config(config_path='../execute/config.json')"
   ]
  },
  {
   "cell_type": "code",
   "execution_count": 7,
   "metadata": {},
   "outputs": [
    {
     "data": {
      "text/plain": [
       "{'pathname': '/home/colin_beyers/data/cllc-U,V,mag.nc4',\n",
       " 'variables': {'U': 'U', 'V': 'V'},\n",
       " 'dimensions': {'lat': 'lat', 'lon': 'lon', 'time': 'time'},\n",
       " 'particles': {'lon': [-135], 'lat': [40.0]},\n",
       " 'kernels': ['AdvectionRK4', 'TotalDistance', 'BoundaryCheck'],\n",
       " 'output': {'directory': '../output',\n",
       "  'file_name': 'cllc-total_eulerian-TEST.zarr'},\n",
       " 'runtime': {'days': 5, 'dt_minutes': 5},\n",
       " 'output_interval_hours': 6}"
      ]
     },
     "execution_count": 7,
     "metadata": {},
     "output_type": "execute_result"
    }
   ],
   "source": [
    "config"
   ]
  },
  {
   "cell_type": "code",
   "execution_count": 8,
   "metadata": {},
   "outputs": [
    {
     "name": "stderr",
     "output_type": "stream",
     "text": [
      "2024-10-01 16:22:17,138 - INFO - Loaded kernels: ['AdvectionRK4', 'TotalDistance', 'BoundaryCheck']\n"
     ]
    }
   ],
   "source": [
    "kernel_list = exP.load_kernels(config.get(\"kernels\", []), parcels, kernels)"
   ]
  },
  {
   "cell_type": "code",
   "execution_count": 9,
   "metadata": {},
   "outputs": [
    {
     "data": {
      "text/plain": [
       "[<function parcels.application_kernels.advection.AdvectionRK4(particle, fieldset, time)>,\n",
       " <function kernels.TotalDistance(particle, fieldset, time)>,\n",
       " <function kernels.BoundaryCheck(particle, fieldset, time)>]"
      ]
     },
     "execution_count": 9,
     "metadata": {},
     "output_type": "execute_result"
    }
   ],
   "source": [
    "kernel_list"
   ]
  },
  {
   "cell_type": "code",
   "execution_count": 10,
   "metadata": {},
   "outputs": [
    {
     "name": "stderr",
     "output_type": "stream",
     "text": [
      "2024-10-01 16:22:17,991 - INFO - Collected extra variables for kernels: [PVar<distance|<class 'numpy.float32'>>, PVar<prev_lon|<class 'numpy.float32'>>, PVar<prev_lat|<class 'numpy.float32'>>, <FieldsetVariable lat_min>, <FieldsetVariable lat_max>, <FieldsetVariable lon_min>, <FieldsetVariable lon_max>]\n"
     ]
    }
   ],
   "source": [
    "extra_vars = exP.collect_extra_vars(kernel_list)"
   ]
  },
  {
   "cell_type": "code",
   "execution_count": 11,
   "metadata": {},
   "outputs": [
    {
     "data": {
      "text/plain": [
       "<bound method FieldsetVariable.value of <FieldsetVariable lat_min>>"
      ]
     },
     "execution_count": 11,
     "metadata": {},
     "output_type": "execute_result"
    }
   ],
   "source": [
    "extra_vars[3].value"
   ]
  },
  {
   "cell_type": "code",
   "execution_count": 12,
   "metadata": {},
   "outputs": [],
   "source": [
    "extra_particle_vars = []"
   ]
  },
  {
   "cell_type": "code",
   "execution_count": 13,
   "metadata": {},
   "outputs": [
    {
     "name": "stdout",
     "output_type": "stream",
     "text": [
      "PVar<distance|<class 'numpy.float32'>>\n",
      "PVar<prev_lon|<class 'numpy.float32'>>\n",
      "PVar<prev_lat|<class 'numpy.float32'>>\n"
     ]
    }
   ],
   "source": [
    "for extra_var in extra_vars:\n",
    "    if type(extra_var) == parcels.particle.Variable:\n",
    "        print(extra_var)\n",
    "        extra_particle_vars.append(extra_var)\n",
    "particles = parcels.JITParticle.add_variables(extra_particle_vars)"
   ]
  },
  {
   "cell_type": "code",
   "execution_count": 14,
   "metadata": {},
   "outputs": [
    {
     "data": {
      "text/plain": [
       "parcels.particle.ScipyParticle.add_variable.<locals>.NewParticle"
      ]
     },
     "execution_count": 14,
     "metadata": {},
     "output_type": "execute_result"
    }
   ],
   "source": [
    "particles"
   ]
  },
  {
   "cell_type": "code",
   "execution_count": 15,
   "metadata": {},
   "outputs": [
    {
     "name": "stderr",
     "output_type": "stream",
     "text": [
      "2024-10-01 16:22:22,574 - INFO - Creating FieldSet with filenames: {'U': '/home/colin_beyers/data/cllc-U,V,mag.nc4', 'V': '/home/colin_beyers/data/cllc-U,V,mag.nc4'}\n"
     ]
    }
   ],
   "source": [
    "fieldset = exP.create_fieldset(config)"
   ]
  },
  {
   "cell_type": "code",
   "execution_count": 16,
   "metadata": {},
   "outputs": [],
   "source": [
    "for extra_var in extra_vars:\n",
    "    if isinstance(extra_var, FieldsetVariable):\n",
    "        fieldset.add_constant(extra_var.name, extra_var.value(fieldset))  # Pass fieldset here\n",
    "    else:\n",
    "        fieldset.add_constant(extra_var.name, extra_var)"
   ]
  },
  {
   "cell_type": "code",
   "execution_count": 17,
   "metadata": {},
   "outputs": [
    {
     "name": "stdout",
     "output_type": "stream",
     "text": [
      "Available attributes in fieldset:\n",
      "['U', 'UV', 'V', '__class__', '__delattr__', '__dict__', '__dir__', '__doc__', '__eq__', '__format__', '__ge__', '__getattribute__', '__getstate__', '__gt__', '__hash__', '__init__', '__init_subclass__', '__le__', '__lt__', '__module__', '__ne__', '__new__', '__reduce__', '__reduce_ex__', '__repr__', '__setattr__', '__sizeof__', '__str__', '__subclasshook__', '__weakref__', 'add_UVfield', 'add_constant', 'add_constant_field', 'add_field', 'add_periodic_halo', 'add_vector_field', 'check_complete', 'checkvaliddimensionsdict', 'completed', 'computeTimeChunk', 'compute_on_defer', 'distance', 'from_a_grid_dataset', 'from_b_grid_dataset', 'from_c_grid_dataset', 'from_data', 'from_mitgcm', 'from_modulefile', 'from_mom5', 'from_nemo', 'from_netcdf', 'from_parcels', 'from_pop', 'from_xarray_dataset', 'get_fields', 'gridset', 'lat_max', 'lat_min', 'lon_max', 'lon_min', 'parse_wildcards', 'particlefile', 'prev_lat', 'prev_lon', 'time_origin', 'write']\n"
     ]
    }
   ],
   "source": [
    "print(\"Available attributes in fieldset:\")\n",
    "print(dir(fieldset))"
   ]
  },
  {
   "cell_type": "code",
   "execution_count": 18,
   "metadata": {},
   "outputs": [
    {
     "name": "stdout",
     "output_type": "stream",
     "text": [
      "Fieldset boundaries:\n",
      "lat_min: 25.0\n",
      "lat_max: 47.02000045776367\n",
      "lon_min: -140.0\n",
      "lon_max: -110.05999755859375\n"
     ]
    }
   ],
   "source": [
    "# Accessing the individual attributes directly\n",
    "print(\"Fieldset boundaries:\")\n",
    "print(f\"lat_min: {fieldset.lat_min}\")\n",
    "print(f\"lat_max: {fieldset.lat_max}\")\n",
    "print(f\"lon_min: {fieldset.lon_min}\")\n",
    "print(f\"lon_max: {fieldset.lon_max}\")"
   ]
  },
  {
   "cell_type": "code",
   "execution_count": 26,
   "metadata": {},
   "outputs": [
    {
     "ename": "IndexError",
     "evalue": "invalid index to scalar variable.",
     "output_type": "error",
     "traceback": [
      "\u001b[0;31m---------------------------------------------------------------------------\u001b[0m",
      "\u001b[0;31mIndexError\u001b[0m                                Traceback (most recent call last)",
      "Cell \u001b[0;32mIn[26], line 1\u001b[0m\n\u001b[0;32m----> 1\u001b[0m \u001b[43mexP\u001b[49m\u001b[38;5;241;43m.\u001b[39;49m\u001b[43madd_perpendicular_currents_to_fieldset\u001b[49m\u001b[43m(\u001b[49m\u001b[43mfieldset\u001b[49m\u001b[43m)\u001b[49m\n",
      "File \u001b[0;32m~/lagrangian_drifts/execute/execute_PARCELS.py:95\u001b[0m, in \u001b[0;36madd_perpendicular_currents_to_fieldset\u001b[0;34m(fieldset, strength)\u001b[0m\n\u001b[1;32m     93\u001b[0m \u001b[38;5;66;03m# Load the field data for the first time step (index 0)\u001b[39;00m\n\u001b[1;32m     94\u001b[0m time_index \u001b[38;5;241m=\u001b[39m \u001b[38;5;241m0\u001b[39m  \u001b[38;5;66;03m# assuming you are working with the first time step, modify if needed\u001b[39;00m\n\u001b[0;32m---> 95\u001b[0m \u001b[43mfieldset\u001b[49m\u001b[38;5;241;43m.\u001b[39;49m\u001b[43mU\u001b[49m\u001b[38;5;241;43m.\u001b[39;49m\u001b[43mcomputeTimeChunk\u001b[49m\u001b[43m(\u001b[49m\u001b[43mfieldset\u001b[49m\u001b[38;5;241;43m.\u001b[39;49m\u001b[43mU\u001b[49m\u001b[38;5;241;43m.\u001b[39;49m\u001b[43mgrid\u001b[49m\u001b[38;5;241;43m.\u001b[39;49m\u001b[43mtime\u001b[49m\u001b[43m[\u001b[49m\u001b[43mtime_index\u001b[49m\u001b[43m]\u001b[49m\u001b[43m,\u001b[49m\u001b[43m \u001b[49m\u001b[43mtime_index\u001b[49m\u001b[43m)\u001b[49m\n\u001b[1;32m     96\u001b[0m fieldset\u001b[38;5;241m.\u001b[39mV\u001b[38;5;241m.\u001b[39mcomputeTimeChunk(fieldset\u001b[38;5;241m.\u001b[39mV\u001b[38;5;241m.\u001b[39mgrid\u001b[38;5;241m.\u001b[39mtime[time_index], time_index)\n\u001b[1;32m     98\u001b[0m \u001b[38;5;66;03m# Print field data shapes to ensure correctness\u001b[39;00m\n",
      "File \u001b[0;32m~/miniconda3/envs/parcels_working/lib/python3.12/site-packages/parcels/field.py:1689\u001b[0m, in \u001b[0;36mField.computeTimeChunk\u001b[0;34m(self, data, tindex)\u001b[0m\n\u001b[1;32m   1675\u001b[0m \u001b[38;5;28;01melif\u001b[39;00m \u001b[38;5;28mlen\u001b[39m(buffer_data\u001b[38;5;241m.\u001b[39mshape) \u001b[38;5;241m==\u001b[39m \u001b[38;5;241m3\u001b[39m:\n\u001b[1;32m   1676\u001b[0m     buffer_data \u001b[38;5;241m=\u001b[39m lib\u001b[38;5;241m.\u001b[39mreshape(\n\u001b[1;32m   1677\u001b[0m         buffer_data,\n\u001b[1;32m   1678\u001b[0m         \u001b[38;5;28msum\u001b[39m(\n\u001b[0;32m   (...)\u001b[0m\n\u001b[1;32m   1687\u001b[0m         ),\n\u001b[1;32m   1688\u001b[0m     )\n\u001b[0;32m-> 1689\u001b[0m data \u001b[38;5;241m=\u001b[39m \u001b[38;5;28;43mself\u001b[39;49m\u001b[38;5;241;43m.\u001b[39;49m\u001b[43mdata_concatenate\u001b[49m\u001b[43m(\u001b[49m\u001b[43mdata\u001b[49m\u001b[43m,\u001b[49m\u001b[43m \u001b[49m\u001b[43mbuffer_data\u001b[49m\u001b[43m,\u001b[49m\u001b[43m \u001b[49m\u001b[43mtindex\u001b[49m\u001b[43m)\u001b[49m\n\u001b[1;32m   1690\u001b[0m \u001b[38;5;28mself\u001b[39m\u001b[38;5;241m.\u001b[39mfilebuffers[tindex] \u001b[38;5;241m=\u001b[39m filebuffer\n\u001b[1;32m   1691\u001b[0m \u001b[38;5;28;01mreturn\u001b[39;00m data\n",
      "File \u001b[0;32m~/miniconda3/envs/parcels_working/lib/python3.12/site-packages/parcels/field.py:1624\u001b[0m, in \u001b[0;36mField.data_concatenate\u001b[0;34m(self, data, data_to_concat, tindex)\u001b[0m\n\u001b[1;32m   1623\u001b[0m \u001b[38;5;28;01mdef\u001b[39;00m \u001b[38;5;21mdata_concatenate\u001b[39m(\u001b[38;5;28mself\u001b[39m, data, data_to_concat, tindex):\n\u001b[0;32m-> 1624\u001b[0m     \u001b[38;5;28;01mif\u001b[39;00m \u001b[43mdata\u001b[49m\u001b[43m[\u001b[49m\u001b[43mtindex\u001b[49m\u001b[43m]\u001b[49m \u001b[38;5;129;01mis\u001b[39;00m \u001b[38;5;129;01mnot\u001b[39;00m \u001b[38;5;28;01mNone\u001b[39;00m:\n\u001b[1;32m   1625\u001b[0m         \u001b[38;5;28;01mif\u001b[39;00m \u001b[38;5;28misinstance\u001b[39m(data, np\u001b[38;5;241m.\u001b[39mndarray):\n\u001b[1;32m   1626\u001b[0m             data[tindex] \u001b[38;5;241m=\u001b[39m \u001b[38;5;28;01mNone\u001b[39;00m\n",
      "\u001b[0;31mIndexError\u001b[0m: invalid index to scalar variable."
     ]
    }
   ],
   "source": [
    "exP.add_perpendicular_currents_to_fieldset(fieldset)"
   ]
  },
  {
   "cell_type": "code",
   "execution_count": null,
   "metadata": {},
   "outputs": [],
   "source": []
  }
 ],
 "metadata": {
  "kernelspec": {
   "display_name": "parcels_working",
   "language": "python",
   "name": "python3"
  },
  "language_info": {
   "codemirror_mode": {
    "name": "ipython",
    "version": 3
   },
   "file_extension": ".py",
   "mimetype": "text/x-python",
   "name": "python",
   "nbconvert_exporter": "python",
   "pygments_lexer": "ipython3",
   "version": "3.12.1"
  }
 },
 "nbformat": 4,
 "nbformat_minor": 2
}
