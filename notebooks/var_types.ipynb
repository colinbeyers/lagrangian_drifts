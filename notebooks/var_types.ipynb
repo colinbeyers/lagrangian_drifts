{
 "cells": [
  {
   "cell_type": "code",
   "execution_count": 3,
   "metadata": {},
   "outputs": [],
   "source": [
    "import sys\n",
    "import os"
   ]
  },
  {
   "cell_type": "code",
   "execution_count": 4,
   "metadata": {},
   "outputs": [],
   "source": [
    "sys.path.append(os.path.abspath('../execute'))"
   ]
  },
  {
   "cell_type": "code",
   "execution_count": 20,
   "metadata": {},
   "outputs": [],
   "source": [
    "import json\n",
    "import parcels\n",
    "from datetime import timedelta\n",
    "import kernels\n",
    "import logging\n",
    "import time\n",
    "from importlib import reload  # Python 3.4+\n"
   ]
  },
  {
   "cell_type": "code",
   "execution_count": 21,
   "metadata": {},
   "outputs": [],
   "source": [
    "import execute_PARCELS as exP"
   ]
  },
  {
   "cell_type": "code",
   "execution_count": 22,
   "metadata": {},
   "outputs": [
    {
     "data": {
      "text/plain": [
       "<module 'kernels' from '/home/colin_beyers/lagrangian_drifts/execute/kernels.py'>"
      ]
     },
     "execution_count": 22,
     "metadata": {},
     "output_type": "execute_result"
    }
   ],
   "source": [
    "reload(exP)\n",
    "reload(kernels)"
   ]
  },
  {
   "cell_type": "code",
   "execution_count": 23,
   "metadata": {},
   "outputs": [
    {
     "name": "stderr",
     "output_type": "stream",
     "text": [
      "2024-09-27 12:45:57,052 - INFO - Loading configuration from ../execute/config.json\n"
     ]
    }
   ],
   "source": [
    "config = exP.load_config(config_path='../execute/config.json')"
   ]
  },
  {
   "cell_type": "code",
   "execution_count": 24,
   "metadata": {},
   "outputs": [
    {
     "data": {
      "text/plain": [
       "{'pathname': '/home/colin_beyers/data/cllc-U,V,mag.nc4',\n",
       " 'variables': {'U': 'U', 'V': 'V'},\n",
       " 'dimensions': {'lat': 'lat', 'lon': 'lon', 'time': 'time'},\n",
       " 'particles': {'lon': [-135], 'lat': [40.0]},\n",
       " 'kernels': ['AdvectionRK4', 'TotalDistance', 'BoundaryCheck'],\n",
       " 'output': {'directory': '../output',\n",
       "  'file_name': 'cllc-total_eulerian-TEST.zarr'},\n",
       " 'runtime': {'days': 5, 'dt_minutes': 5},\n",
       " 'output_interval_hours': 6}"
      ]
     },
     "execution_count": 24,
     "metadata": {},
     "output_type": "execute_result"
    }
   ],
   "source": [
    "config"
   ]
  },
  {
   "cell_type": "code",
   "execution_count": 25,
   "metadata": {},
   "outputs": [
    {
     "name": "stderr",
     "output_type": "stream",
     "text": [
      "2024-09-27 12:45:57,641 - INFO - Loaded kernels: ['AdvectionRK4', 'TotalDistance', 'BoundaryCheck']\n"
     ]
    }
   ],
   "source": [
    "kernel_list = exP.load_kernels(config.get(\"kernels\", []), parcels, kernels)"
   ]
  },
  {
   "cell_type": "code",
   "execution_count": 26,
   "metadata": {},
   "outputs": [
    {
     "data": {
      "text/plain": [
       "[<function parcels.application_kernels.advection.AdvectionRK4(particle, fieldset, time)>,\n",
       " <function kernels.TotalDistance(particle, fieldset, time)>,\n",
       " <function kernels.BoundaryCheck(particle, fieldset, time)>]"
      ]
     },
     "execution_count": 26,
     "metadata": {},
     "output_type": "execute_result"
    }
   ],
   "source": [
    "kernel_list"
   ]
  },
  {
   "cell_type": "code",
   "execution_count": 27,
   "metadata": {},
   "outputs": [
    {
     "name": "stderr",
     "output_type": "stream",
     "text": [
      "2024-09-27 12:45:58,597 - INFO - Collected extra variables for kernels: [PVar<distance|<class 'numpy.float32'>>, PVar<prev_lon|<class 'numpy.float32'>>, PVar<prev_lat|<class 'numpy.float32'>>, 'lat_min', 'lat_max', 'lon_min', 'lon_max']\n"
     ]
    }
   ],
   "source": [
    "extra_vars = exP.collect_extra_vars(kernel_list)"
   ]
  },
  {
   "cell_type": "code",
   "execution_count": 31,
   "metadata": {},
   "outputs": [
    {
     "data": {
      "text/plain": [
       "parcels.particle.Variable"
      ]
     },
     "execution_count": 31,
     "metadata": {},
     "output_type": "execute_result"
    }
   ],
   "source": [
    "type(extra_vars[0])"
   ]
  },
  {
   "cell_type": "code",
   "execution_count": 33,
   "metadata": {},
   "outputs": [
    {
     "name": "stdout",
     "output_type": "stream",
     "text": [
      "lat_min\n",
      "lat_max\n",
      "lon_min\n",
      "lon_max\n"
     ]
    }
   ],
   "source": [
    "for extra_var in extra_vars:\n",
    "    if type(extra_var) != parcels.particle.Variable:\n",
    "        print(extra_var)"
   ]
  },
  {
   "cell_type": "code",
   "execution_count": 58,
   "metadata": {},
   "outputs": [
    {
     "name": "stderr",
     "output_type": "stream",
     "text": [
      "2024-09-26 15:15:51,815 - INFO - Creating FieldSet with filenames: {'U': '/home/colin_beyers/data/cllc-U,V,mag.nc4', 'V': '/home/colin_beyers/data/cllc-U,V,mag.nc4'}\n"
     ]
    }
   ],
   "source": [
    "fieldset = exe.create_fieldset(config)"
   ]
  },
  {
   "cell_type": "code",
   "execution_count": 59,
   "metadata": {},
   "outputs": [],
   "source": [
    "for extra_var in extra_vars:\n",
    "    fieldset.add_constant(extra_var.name, extra_var)"
   ]
  },
  {
   "cell_type": "code",
   "execution_count": 48,
   "metadata": {},
   "outputs": [
    {
     "data": {
      "text/plain": [
       "PVar<lat_max|<class 'numpy.float32'>>"
      ]
     },
     "execution_count": 48,
     "metadata": {},
     "output_type": "execute_result"
    }
   ],
   "source": [
    "extra_var"
   ]
  },
  {
   "cell_type": "code",
   "execution_count": 51,
   "metadata": {},
   "outputs": [
    {
     "name": "stdout",
     "output_type": "stream",
     "text": [
      "\u001b[0;31mInit signature:\u001b[0m\n",
      "\u001b[0mparcels\u001b[0m\u001b[0;34m.\u001b[0m\u001b[0mVariable\u001b[0m\u001b[0;34m(\u001b[0m\u001b[0;34m\u001b[0m\n",
      "\u001b[0;34m\u001b[0m    \u001b[0mname\u001b[0m\u001b[0;34m,\u001b[0m\u001b[0;34m\u001b[0m\n",
      "\u001b[0;34m\u001b[0m    \u001b[0mdtype\u001b[0m\u001b[0;34m=\u001b[0m\u001b[0;34m<\u001b[0m\u001b[0;32mclass\u001b[0m \u001b[0;34m'numpy.float32'\u001b[0m\u001b[0;34m>\u001b[0m\u001b[0;34m,\u001b[0m\u001b[0;34m\u001b[0m\n",
      "\u001b[0;34m\u001b[0m    \u001b[0minitial\u001b[0m\u001b[0;34m=\u001b[0m\u001b[0;36m0\u001b[0m\u001b[0;34m,\u001b[0m\u001b[0;34m\u001b[0m\n",
      "\u001b[0;34m\u001b[0m    \u001b[0mto_write\u001b[0m\u001b[0;34m=\u001b[0m\u001b[0;32mTrue\u001b[0m\u001b[0;34m,\u001b[0m\u001b[0;34m\u001b[0m\n",
      "\u001b[0;34m\u001b[0m\u001b[0;34m)\u001b[0m\u001b[0;34m\u001b[0m\u001b[0;34m\u001b[0m\u001b[0m\n",
      "\u001b[0;31mDocstring:\u001b[0m     \n",
      "Descriptor class that delegates data access to particle data.\n",
      "\n",
      "Parameters\n",
      "----------\n",
      "name : str\n",
      "    Variable name as used within kernels\n",
      "dtype :\n",
      "    Data type (numpy.dtype) of the variable\n",
      "initial :\n",
      "    Initial value of the variable. Note that this can also be a Field object,\n",
      "    which will then be sampled at the location of the particle\n",
      "to_write : bool, 'once', optional\n",
      "    Boolean or 'once'. Controls whether Variable is written to NetCDF file.\n",
      "    If to_write = 'once', the variable will be written as a time-independent 1D array\n",
      "\u001b[0;31mFile:\u001b[0m           ~/miniconda3/envs/parcels_working/lib/python3.12/site-packages/parcels/particle.py\n",
      "\u001b[0;31mType:\u001b[0m           type\n",
      "\u001b[0;31mSubclasses:\u001b[0m     "
     ]
    }
   ],
   "source": [
    "parcels.Variable?"
   ]
  },
  {
   "cell_type": "code",
   "execution_count": 57,
   "metadata": {},
   "outputs": [],
   "source": [
    "lon_min = fieldset.U.grid.lon[0]\n",
    "lon_max = fieldset.U.grid.lon[-1]\n",
    "lat_min = fieldset.U.grid.lat[0]\n",
    "lat_max = fieldset.U.grid.lat[-1]"
   ]
  },
  {
   "cell_type": "code",
   "execution_count": null,
   "metadata": {},
   "outputs": [],
   "source": [
    "fieldset.add_constant(\"lon_min\", lon_min)\n",
    "fieldset.add_constant(\"lon_max\", lon_max)\n",
    "fieldset.add_constant(\"lat_min\", lat_min)\n",
    "fieldset.add_constant(\"lat_max\", lat_max)"
   ]
  }
 ],
 "metadata": {
  "kernelspec": {
   "display_name": "parcels_working",
   "language": "python",
   "name": "python3"
  },
  "language_info": {
   "codemirror_mode": {
    "name": "ipython",
    "version": 3
   },
   "file_extension": ".py",
   "mimetype": "text/x-python",
   "name": "python",
   "nbconvert_exporter": "python",
   "pygments_lexer": "ipython3",
   "version": "3.12.1"
  }
 },
 "nbformat": 4,
 "nbformat_minor": 2
}
